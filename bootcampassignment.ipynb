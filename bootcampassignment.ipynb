{
 "cells": [
  {
   "cell_type": "code",
   "execution_count": 1,
   "id": "60d0b6da",
   "metadata": {},
   "outputs": [
    {
     "name": "stdout",
     "output_type": "stream",
     "text": [
      "[1, 3, 8, 9]\n"
     ]
    }
   ],
   "source": [
    "lis = [1, 3, 5, 8, 5, 9, 5]\n",
    "while 5 in lis: \n",
    "    lis.remove(5)\n",
    "print(lis)\n"
   ]
  },
  {
   "cell_type": "code",
   "execution_count": 2,
   "id": "681ab2db",
   "metadata": {},
   "outputs": [
    {
     "name": "stdout",
     "output_type": "stream",
     "text": [
      "hello world\n"
     ]
    }
   ],
   "source": [
    "l1 = ['hello', 'world']\n",
    "result_str = ' '.join(l1) \n",
    "print(result_str)\n"
   ]
  },
  {
   "cell_type": "code",
   "execution_count": 3,
   "id": "cc0af6c8",
   "metadata": {},
   "outputs": [
    {
     "name": "stdout",
     "output_type": "stream",
     "text": [
      "[5, 9, 5, 8, 5, 3, 1]\n"
     ]
    }
   ],
   "source": [
    "l2 = [1, 3, 5, 8, 5, 9, 5]\n",
    "l2.reverse() \n",
    "print(l2)\n"
   ]
  },
  {
   "cell_type": "code",
   "execution_count": 4,
   "id": "9981ba57",
   "metadata": {},
   "outputs": [
    {
     "name": "stdout",
     "output_type": "stream",
     "text": [
      "[9, 8, 5, 5, 5, 3, 1]\n"
     ]
    }
   ],
   "source": [
    "l3 = [1, 3, 5, 8, 5, 9, 5]\n",
    "l3.sort(reverse=True) \n",
    "print(l3)\n"
   ]
  },
  {
   "cell_type": "code",
   "execution_count": 5,
   "id": "5dd36075",
   "metadata": {},
   "outputs": [
    {
     "name": "stdout",
     "output_type": "stream",
     "text": [
      "[1, 3, 5, 8, 9]\n"
     ]
    }
   ],
   "source": [
    "lis1 = [1, 3, 5, 8, 5, 9, 5]\n",
    "lis2 = [9, 8, 5, 5, 5, 3, 1]\n",
    "lis3 = list(set(lis1) | set(lis2))\n",
    "print(lis3)\n"
   ]
  },
  {
   "cell_type": "code",
   "execution_count": 6,
   "id": "a305ba59",
   "metadata": {},
   "outputs": [
    {
     "name": "stdout",
     "output_type": "stream",
     "text": [
      "[5, 8, 6]\n"
     ]
    }
   ],
   "source": [
    "t = (1, 5, 8, 6, 3)\n",
    "list1 = list(t)\n",
    "list1 = list1[1:-1] \n",
    "print(list1)\n"
   ]
  },
  {
   "cell_type": "code",
   "execution_count": 7,
   "id": "4a2ad0c2",
   "metadata": {},
   "outputs": [
    {
     "name": "stdout",
     "output_type": "stream",
     "text": [
      "[1, 2, 3]\n"
     ]
    }
   ],
   "source": [
    "t_lst = [(1, 'a'), (2, 'b'), (3, 'c')]\n",
    "final_lis = [x[0] for x in t_lst]  \n",
    "print(final_lis)\n"
   ]
  },
  {
   "cell_type": "code",
   "execution_count": 8,
   "id": "205877eb",
   "metadata": {},
   "outputs": [
    {
     "name": "stdout",
     "output_type": "stream",
     "text": [
      "(1, 5, 8, 9, 6, 8, 9, 6)\n"
     ]
    }
   ],
   "source": [
    "t1 = (1, 5, 8, 9)\n",
    "t2 = (6, 8, 9, 6)\n",
    "t3 = t1 + t2  \n",
    "print(t3)\n"
   ]
  },
  {
   "cell_type": "code",
   "execution_count": 9,
   "id": "a01a1151",
   "metadata": {},
   "outputs": [
    {
     "name": "stdout",
     "output_type": "stream",
     "text": [
      "Maximum number from tuple t4 = 89\n",
      "Minimum number from tuple t4 = 5\n"
     ]
    }
   ],
   "source": [
    "t4 = (5, 8, 89, 12, 20)\n",
    "max_val = max(t4) \n",
    "min_val = min(t4)\n",
    "print(\"Maximum number from tuple t4 =\", max_val)\n",
    "print(\"Minimum number from tuple t4 =\", min_val)\n"
   ]
  },
  {
   "cell_type": "code",
   "execution_count": 10,
   "id": "2083d059",
   "metadata": {},
   "outputs": [
    {
     "name": "stdout",
     "output_type": "stream",
     "text": [
      "SGVU, JAIPUR, JAGATPURA\n"
     ]
    }
   ],
   "source": [
    "t5 = (\"SGVU\", \"JAIPUR\", \"JAGATPURA\")\n",
    "T6 = ', '.join(t5)  \n",
    "print(T6)\n"
   ]
  },
  {
   "cell_type": "code",
   "execution_count": 11,
   "id": "5c0f8ba3",
   "metadata": {},
   "outputs": [
    {
     "name": "stdout",
     "output_type": "stream",
     "text": [
      "{1, 2, 5, 6, 8, 9}\n"
     ]
    }
   ],
   "source": [
    "s1 = {1, 2, 5, 6}\n",
    "s2 = {5, 9, 2, 8}\n",
    "s3 = s1 | s2 \n",
    "print(s3)\n"
   ]
  },
  {
   "cell_type": "code",
   "execution_count": 12,
   "id": "a67ed3ed",
   "metadata": {},
   "outputs": [
    {
     "name": "stdout",
     "output_type": "stream",
     "text": [
      "{2, 5}\n"
     ]
    }
   ],
   "source": [
    "s4 = s1 & s2  \n",
    "print(s4)\n"
   ]
  },
  {
   "cell_type": "code",
   "execution_count": 13,
   "id": "faabbe5f",
   "metadata": {},
   "outputs": [
    {
     "name": "stdout",
     "output_type": "stream",
     "text": [
      "{1, 6}\n"
     ]
    }
   ],
   "source": [
    "s1 = {1, 2, 5, 6}\n",
    "s1.difference_update(s2)\n",
    "print(s1)\n"
   ]
  },
  {
   "cell_type": "code",
   "execution_count": 14,
   "id": "c23abb28",
   "metadata": {},
   "outputs": [
    {
     "name": "stdout",
     "output_type": "stream",
     "text": [
      "{1, 6}\n"
     ]
    }
   ],
   "source": [
    "s6 = s1 - s2 \n",
    "print(s6)\n"
   ]
  },
  {
   "cell_type": "code",
   "execution_count": 15,
   "id": "62472cad",
   "metadata": {},
   "outputs": [
    {
     "name": "stdout",
     "output_type": "stream",
     "text": [
      "[1, 2, 3, 4, 5]\n"
     ]
    }
   ],
   "source": [
    "lis11 = [1, 2, 2, 3, 4, 4, 5]\n",
    "unique_list = list(set(lis11))  \n",
    "print(unique_list)\n"
   ]
  },
  {
   "cell_type": "code",
   "execution_count": 17,
   "id": "a6fad6a2",
   "metadata": {},
   "outputs": [
    {
     "ename": "NameError",
     "evalue": "name 'dic3' is not defined",
     "output_type": "error",
     "traceback": [
      "\u001b[1;31m---------------------------------------------------------------------------\u001b[0m",
      "\u001b[1;31mNameError\u001b[0m                                 Traceback (most recent call last)",
      "Cell \u001b[1;32mIn[17], line 1\u001b[0m\n\u001b[1;32m----> 1\u001b[0m dic4 \u001b[38;5;241m=\u001b[39m \u001b[38;5;28mlist\u001b[39m(dic3\u001b[38;5;241m.\u001b[39mvalues())  \n\u001b[0;32m      2\u001b[0m \u001b[38;5;28mprint\u001b[39m(dic4)\n",
      "\u001b[1;31mNameError\u001b[0m: name 'dic3' is not defined"
     ]
    }
   ],
   "source": [
    "dic4 = list(dic3.values())  \n",
    "print(dic4)\n"
   ]
  },
  {
   "cell_type": "code",
   "execution_count": null,
   "id": "cf1158ce",
   "metadata": {},
   "outputs": [],
   "source": []
  }
 ],
 "metadata": {
  "kernelspec": {
   "display_name": "Python 3 (ipykernel)",
   "language": "python",
   "name": "python3"
  },
  "language_info": {
   "codemirror_mode": {
    "name": "ipython",
    "version": 3
   },
   "file_extension": ".py",
   "mimetype": "text/x-python",
   "name": "python",
   "nbconvert_exporter": "python",
   "pygments_lexer": "ipython3",
   "version": "3.11.5"
  }
 },
 "nbformat": 4,
 "nbformat_minor": 5
}
